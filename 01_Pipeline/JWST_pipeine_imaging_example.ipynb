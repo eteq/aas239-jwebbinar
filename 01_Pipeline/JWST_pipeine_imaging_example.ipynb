{
 "cells": [
  {
   "cell_type": "markdown",
   "id": "02023743",
   "metadata": {},
   "source": [
    "# JWST Imaging Pipeline\n",
    "\n",
    "Prepared for AAS Meeting JWebbinar"
   ]
  },
  {
   "cell_type": "markdown",
   "id": "967a4ee6",
   "metadata": {},
   "source": [
    "**Consolidator**: Karl Gordon (kgordon@stsci.edu)| **Latest Update**: 20 Dec 2021\n",
    "\n",
    "Completed based on the excellent and expansive JWebbinar 3 notebooks written by Bryan Hilbert (hilbert@stsci.edu).\n",
    "\n",
    "Please see the JWebbinar 3, 4, and 5 notebooks for more in depth explanations and other ways of running the JWST pipeline.\n",
    "\n",
    "JWebbinar info: https://www.stsci.edu/jwst/science-execution/jwebbinars"
   ]
  },
  {
   "cell_type": "markdown",
   "id": "4480f40f",
   "metadata": {},
   "source": [
    "## Notebook Goals\n",
    "\n",
    "Run the JWST pipeline for a set of NIRCam images.\n",
    "\n",
    "Use only one of the methods for running the pipeline, specifically running a stage.\n",
    "See the JWebbinar 3 notebooks for ways to run the pipeline step-by-step for each stage or from the commandline."
   ]
  },
  {
   "cell_type": "markdown",
   "id": "2ddf0796",
   "metadata": {},
   "source": [
    "### Imports and setup"
   ]
  },
  {
   "cell_type": "code",
   "execution_count": null,
   "id": "8d2b306b",
   "metadata": {},
   "outputs": [],
   "source": [
    "# Packages that allow us to get information about objects:\n",
    "from glob import glob\n",
    "import asdf\n",
    "import copy\n",
    "import os\n",
    "import shutil\n",
    "\n",
    "# Numpy library:\n",
    "import numpy as np\n",
    "\n",
    "# For downloading data\n",
    "import requests\n",
    "\n",
    "# To read association file\n",
    "import json\n",
    "\n",
    "# Astropy tools:\n",
    "from astropy.io import ascii, fits\n",
    "from astropy.utils.data import download_file\n",
    "from astropy.visualization import ImageNormalize, ManualInterval, LogStretch, LinearStretch"
   ]
  },
  {
   "cell_type": "markdown",
   "id": "b9a89ef3",
   "metadata": {},
   "source": [
    "Set the location to cache pipeline reference files"
   ]
  },
  {
   "cell_type": "code",
   "execution_count": null,
   "id": "e52895a6",
   "metadata": {},
   "outputs": [],
   "source": [
    "os.environ[\"CRDS_PATH\"] = \"./crds_cache\"\n",
    "os.environ[\"CRDS_SERVER_URL\"] = \"https://jwst-crds.stsci.edu\""
   ]
  },
  {
   "cell_type": "code",
   "execution_count": null,
   "id": "9983d463",
   "metadata": {},
   "outputs": [],
   "source": [
    "import matplotlib.pyplot as plt\n",
    "import matplotlib as mpl\n",
    "\n",
    "# Use this version for non-interactive plots (easier scrolling of the notebook)\n",
    "%matplotlib inline\n",
    "\n",
    "# Use this version (outside of Jupyter Lab) if you want interactive plots\n",
    "#%matplotlib notebook\n",
    "\n",
    "# These gymnastics are needed to make the sizes of the figures\n",
    "# be the same in both the inline and notebook versions\n",
    "%config InlineBackend.print_figure_kwargs = {'bbox_inches': None}\n",
    "\n",
    "mpl.rcParams['savefig.dpi'] = 80\n",
    "mpl.rcParams['figure.dpi'] = 80"
   ]
  },
  {
   "cell_type": "code",
   "execution_count": null,
   "id": "34307cf5",
   "metadata": {},
   "outputs": [],
   "source": [
    "# List of possible data quality flags\n",
    "from jwst.datamodels import dqflags\n",
    "\n",
    "# import the JWST datamodels\n",
    "from jwst import datamodels\n",
    "\n",
    "# entire pipelines pipeline\n",
    "from jwst.pipeline import calwebb_detector1\n",
    "from jwst.pipeline import calwebb_image2\n",
    "from jwst.pipeline import calwebb_image3"
   ]
  },
  {
   "cell_type": "code",
   "execution_count": null,
   "id": "d09729ea",
   "metadata": {},
   "outputs": [],
   "source": [
    "import jwst\n",
    "print(jwst.__version__)"
   ]
  },
  {
   "cell_type": "markdown",
   "id": "30fe415b",
   "metadata": {},
   "source": [
    "## Define convenience functions and parameters"
   ]
  },
  {
   "cell_type": "code",
   "execution_count": null,
   "id": "e17dff1e",
   "metadata": {},
   "outputs": [],
   "source": [
    "# To make everything easier, all files saved by the pipeline\n",
    "# and pipeline steps will be saved to the working directory.\n",
    "# This will be more important for the level 2 and 3 pipelines\n",
    "# once we are working with association files.\n",
    "output_dir = './'"
   ]
  },
  {
   "cell_type": "code",
   "execution_count": null,
   "id": "1b9ad5e1",
   "metadata": {},
   "outputs": [],
   "source": [
    "# Make sure the output directory exists before downloading any data\n",
    "if not os.path.exists(output_dir):\n",
    "    os.makedirs(output_dir)"
   ]
  },
  {
   "cell_type": "code",
   "execution_count": null,
   "id": "85d31f1a",
   "metadata": {},
   "outputs": [],
   "source": [
    "def download_files(files, output_directory, force=False):\n",
    "    \"\"\"Given a tuple or list of tuples containing (URL, filename),\n",
    "    download the given files into the current working directory.\n",
    "    Downloading is done via astropy's download_file. A symbolic link\n",
    "    is created in the specified output dirctory that points to the\n",
    "    downloaded file.\n",
    "    \n",
    "    Parameters\n",
    "    ----------\n",
    "    files : tuple or list of tuples\n",
    "        Each 2-tuple should contain (URL, filename), where\n",
    "        URL is the URL from which to download the file, and\n",
    "        filename will be the name of the symlink pointing to\n",
    "        the downloaded file.\n",
    "        \n",
    "    output_directory : str\n",
    "        Name of the directory in which to create the symbolic\n",
    "        links to the downloaded files\n",
    "        \n",
    "    force : bool\n",
    "        If True, the file will be downloaded regarless of whether\n",
    "        it is already present or not.\n",
    "                \n",
    "    Returns\n",
    "    -------\n",
    "    filenames : list\n",
    "        List of filenames corresponding to the symbolic links\n",
    "        of the downloaded files\n",
    "    \"\"\"\n",
    "    # In the case of a single input tuple, make it a\n",
    "    # 1 element list, for consistency.\n",
    "    filenames = []\n",
    "    if isinstance(files, tuple):\n",
    "        files = [files]\n",
    "        \n",
    "    for file in files:\n",
    "        filenames.append(file[1])\n",
    "        if force:\n",
    "            print('Downloading {}...'.format(file[1]))\n",
    "            demo_file = download_file(file[0], cache='update')\n",
    "            # Make a symbolic link using a local name for convenience\n",
    "            if not os.path.islink(os.path.join(output_directory, file[1])):\n",
    "                os.symlink(demo_file, os.path.join(output_directory, file[1]))\n",
    "        else:\n",
    "            if not os.path.isfile(os.path.join(output_directory, file[1])):\n",
    "                print('Downloading {}...'.format(file[1]))\n",
    "                demo_file = download_file(file[0], cache=True)\n",
    "                # Make a symbolic link using a local name for convenience\n",
    "                os.symlink(demo_file, os.path.join(output_directory, file[1]))\n",
    "            else:\n",
    "                print('{} already exists, skipping download...'.format(file[1]))\n",
    "                continue\n",
    "    return filenames    "
   ]
  },
  {
   "cell_type": "code",
   "execution_count": null,
   "id": "ca39144d",
   "metadata": {},
   "outputs": [],
   "source": [
    "def show_image(data_2d, vmin, vmax, xpixel=None, ypixel=None, title=None,\n",
    "               scale='log', units='MJy/str'):\n",
    "    \"\"\"Function to generate a 2D, log-scaled image of the data, \n",
    "    with an option to highlight a specific pixel.\n",
    "    \n",
    "    data_2d : numpy.ndarray\n",
    "        2D image to be displayed\n",
    "        \n",
    "    vmin : float\n",
    "        Minimum signal value to use for scaling\n",
    "        \n",
    "    vmax : float\n",
    "        Maximum signal value to use for scaling\n",
    "        \n",
    "    xpixel : int\n",
    "        X-coordinate of pixel to highlight\n",
    "        \n",
    "    ypixel : int\n",
    "        Y-coordinate of pixel to highlight\n",
    "        \n",
    "    title : str\n",
    "        String to use for the plot title\n",
    "        \n",
    "    scale : str\n",
    "        Specify scaling of the image. Can be 'log' or 'linear'\n",
    "        \n",
    "    units : str\n",
    "        Units of the data. Used for the annotation in the\n",
    "        color bar\n",
    "    \"\"\"\n",
    "    if scale == 'log':\n",
    "        norm = ImageNormalize(data_2d, interval=ManualInterval(vmin=vmin, vmax=vmax),\n",
    "                              stretch=LogStretch())\n",
    "    elif scale == 'linear':\n",
    "        norm = ImageNormalize(data_2d, interval=ManualInterval(vmin=vmin, vmax=vmax),\n",
    "                              stretch=LinearStretch())\n",
    "    fig = plt.figure(figsize=(8, 8))\n",
    "    ax = fig.add_subplot(1, 1, 1)\n",
    "    im = ax.imshow(data_2d, origin='lower', norm=norm)\n",
    "    \n",
    "    if xpixel and ypixel:\n",
    "        plt.plot(xpixel, ypixel, marker='o', color='red', label='Selected Pixel')\n",
    "\n",
    "    fig.colorbar(im, label=units)\n",
    "    plt.xlabel('Pixel column')\n",
    "    plt.ylabel('Pixel row')\n",
    "    if title:\n",
    "        plt.title(title)"
   ]
  },
  {
   "cell_type": "code",
   "execution_count": null,
   "id": "4888e2cd",
   "metadata": {},
   "outputs": [],
   "source": [
    "def overlay_catalog(data_2d, catalog, flux_limit=0, vmin=0, vmax=10,\n",
    "                    title=None, units='MJy/str'):\n",
    "    \"\"\"Function to generate a 2D image of the data, \n",
    "    with sources overlaid.\n",
    "    \n",
    "    data_2d : numpy.ndarray\n",
    "        2D image to be displayed\n",
    "        \n",
    "    catalog : astropy.table.Table\n",
    "        Table of sources\n",
    "    \n",
    "    flux_limit : float\n",
    "        Minimum signal threshold to overplot sources from catalog.\n",
    "        Sources below this limit will not be shown on the image.\n",
    "        \n",
    "    vmin : float\n",
    "        Minimum signal value to use for scaling\n",
    "        \n",
    "    vmax : float\n",
    "        Maximum signal value to use for scaling\n",
    "        \n",
    "    title : str\n",
    "        String to use for the plot title\n",
    "                \n",
    "    units : str\n",
    "        Units of the data. Used for the annotation in the\n",
    "        color bar\n",
    "    \"\"\"\n",
    "    norm = ImageNormalize(data_2d, interval=ManualInterval(vmin=vmin, vmax=vmax),\n",
    "                              stretch=LogStretch())\n",
    "    fig = plt.figure(figsize=(8, 8))\n",
    "    ax = fig.add_subplot(1, 1, 1)\n",
    "    im = ax.imshow(data_2d, origin='lower', norm=norm)\n",
    "    \n",
    "    for row in catalog:\n",
    "        if row['aper_total_flux'].value > flux_limit:\n",
    "            plt.plot(row['xcentroid'], row['ycentroid'], marker='o',\n",
    "                     markersize='3', color='red')\n",
    "\n",
    "    plt.xlabel('Pixel column')\n",
    "    plt.ylabel('Pixel row')\n",
    "    \n",
    "    fig.colorbar(im, label=units)\n",
    "    fig.tight_layout()\n",
    "    plt.subplots_adjust(left=0.15)\n",
    "    \n",
    "    if title:\n",
    "        plt.title(title)"
   ]
  },
  {
   "cell_type": "markdown",
   "id": "b28cd2f3",
   "metadata": {},
   "source": [
    "## Download Data"
   ]
  },
  {
   "cell_type": "code",
   "execution_count": null,
   "id": "049fc260",
   "metadata": {},
   "outputs": [],
   "source": [
    "uncal_info = ('https://stsci.box.com/shared/static/j46wpyirlbqo30e7c9719ycnuc1qk2lu.fits',\n",
    "              'jw98765001001_01101_00003_nrcb5_uncal.fits')\n",
    "uncal_file = download_files(uncal_info, output_dir, force=False)[0]"
   ]
  },
  {
   "cell_type": "code",
   "execution_count": null,
   "id": "808b1093",
   "metadata": {},
   "outputs": [],
   "source": [
    "# Also download a \"trapsfilled\" file, which specifies the state of the charge traps at\n",
    "# the time of the preceding exposure. This will serve as input to the persistence\n",
    "# step.\n",
    "persist_info = ('https://stsci.box.com/shared/static/ehkof12d43h6nnpijs2r4tyuzde3nzc9.fits',\n",
    "                'jw98765001001_01101_00002_nrcb5_trapsfilled.fits')\n",
    "persist_file = download_files(persist_info, output_dir, force=False)[0]"
   ]
  },
  {
   "cell_type": "markdown",
   "id": "7f766878",
   "metadata": {},
   "source": [
    "## CALWEBB_DETECTOR1\n",
    "\n",
    "Full notebook for CALWEBB_DETECTOR1: https://stsci.app.box.com/s/z5bznws56f9m1j505vhnpud35nxrjr50"
   ]
  },
  {
   "cell_type": "code",
   "execution_count": null,
   "id": "62e8cf77",
   "metadata": {},
   "outputs": [],
   "source": [
    "# Create an instance of the pipeline class\n",
    "detector1 = calwebb_detector1.Detector1Pipeline()\n",
    "\n",
    "# Set some parameters that pertain to the\n",
    "# entire pipeline\n",
    "detector1.output_dir = output_dir\n",
    "detector1.save_results = True\n",
    "\n",
    "# Set some parameters that pertain to some of\n",
    "# the individual steps\n",
    "detector1.refpix.use_side_ref_pixels = True\n",
    "detector1.linearity.save_results = True\n",
    "detector1.jump.rejection_threshold = 6\n",
    "\n",
    "# Specify the name of the trapsfilled file, which\n",
    "# contains the state of the charge traps at the end\n",
    "# of the preceding exposure\n",
    "detector1.persistence.input_trapsfilled = persist_file\n",
    "\n",
    "# Call the run() method\n",
    "run_output = detector1.run(uncal_file)"
   ]
  },
  {
   "cell_type": "markdown",
   "id": "a0d84d68",
   "metadata": {},
   "source": [
    "### Examine the outputs"
   ]
  },
  {
   "cell_type": "code",
   "execution_count": null,
   "id": "c010b9d9",
   "metadata": {},
   "outputs": [],
   "source": [
    "# Generate the rate file name from the uncal file name\n",
    "rate_file = uncal_file.replace('uncal.fits', 'rate.fits')"
   ]
  },
  {
   "cell_type": "code",
   "execution_count": null,
   "id": "dd4e7535",
   "metadata": {},
   "outputs": [],
   "source": [
    "rate_file"
   ]
  },
  {
   "cell_type": "code",
   "execution_count": null,
   "id": "19500d3b",
   "metadata": {},
   "outputs": [],
   "source": [
    "# Use getdata to quickly read in the science data from the rate file\n",
    "rate_data = fits.getdata(rate_file)"
   ]
  },
  {
   "cell_type": "code",
   "execution_count": null,
   "id": "aa5a4aae",
   "metadata": {},
   "outputs": [],
   "source": [
    "# Look at the rate image\n",
    "show_image(rate_data, 0.5, 10, units=\"DN\")"
   ]
  },
  {
   "cell_type": "markdown",
   "id": "b9126474",
   "metadata": {},
   "source": [
    "## CALWEBB_IMAGE2\n",
    "\n",
    "Full notebook for CALWEBB_IMAGE2: https://stsci.app.box.com/s/8rulrbsumk3umh1w90k4cruwrsrtwsvo"
   ]
  },
  {
   "cell_type": "markdown",
   "id": "1e2bcb1b",
   "metadata": {},
   "source": [
    "## Download Data"
   ]
  },
  {
   "cell_type": "code",
   "execution_count": null,
   "id": "e87e2836",
   "metadata": {},
   "outputs": [],
   "source": [
    "nircam_info = [('https://stsci.box.com/shared/static/g6316wjr4mv936rlouzdjeq065s7ou6g.fits',\n",
    "                'jw98765001001_01101_00001_nrcb5_rate.fits'),\n",
    "               ('https://stsci.box.com/shared/static/z2xunff1d2g3m3fjxc1fixoz8rjfpl7h.fits',\n",
    "                'jw98765001001_01101_00002_nrcb5_rate.fits'),\n",
    "               ('https://stsci.box.com/shared/static/4xuvt56kr7gix7dx3tntek6wc9kockef.fits',\n",
    "                'jw98765001001_01101_00003_nrcb5_rate.fits'),\n",
    "               ('https://stsci.box.com/shared/static/lzhcnzds2l7mpf92oet1u69uof788u3l.json',\n",
    "                'level2_lw_asn.json'),\n",
    "               ('https://stsci.box.com/shared/static/d4pu8ieyjc27wzoe0of3ajb9vjtvc80g.asdf',\n",
    "                'image2_pipeline_params.asdf')]\n",
    "nircam_files = download_files(nircam_info, output_dir, force=False)"
   ]
  },
  {
   "cell_type": "code",
   "execution_count": null,
   "id": "6b0223b2",
   "metadata": {},
   "outputs": [],
   "source": [
    "# the image2 pipeline is usually run on a set of images defined in an association file\n",
    "asn_file = os.path.join(output_dir, 'level2_lw_asn.json')"
   ]
  },
  {
   "cell_type": "code",
   "execution_count": null,
   "id": "2108e780",
   "metadata": {},
   "outputs": [],
   "source": [
    "# Create an instance of the pipeline class\n",
    "image2 = calwebb_image2.Image2Pipeline()\n",
    "\n",
    "# Set some parameters that pertain to the\n",
    "# entire pipeline\n",
    "image2.output_dir = output_dir\n",
    "image2.save_results = True\n",
    "\n",
    "# Set some parameters that pertain to some of\n",
    "# the individual steps\n",
    "image2.resample.pixfrac = 1.0    # this is the default. Set here as an example\n",
    "\n",
    "# Call the run() method\n",
    "image2.run(asn_file)"
   ]
  },
  {
   "cell_type": "markdown",
   "id": "f7050401",
   "metadata": {},
   "source": [
    "### Examine the outputs"
   ]
  },
  {
   "cell_type": "code",
   "execution_count": null,
   "id": "3b4673fc",
   "metadata": {},
   "outputs": [],
   "source": [
    "# Get a list of input file names from the association file\n",
    "with open(asn_file) as f_obj:\n",
    "  asn_data = json.load(f_obj)\n",
    "input_files = [item['members'][0]['expname'] for item in asn_data['products']]  "
   ]
  },
  {
   "cell_type": "code",
   "execution_count": null,
   "id": "8aadc6da",
   "metadata": {},
   "outputs": [],
   "source": [
    "# Get a list of the output file names\n",
    "output_files = sorted(glob(os.path.join(output_dir, '*_cal.fits')))"
   ]
  },
  {
   "cell_type": "code",
   "execution_count": null,
   "id": "6ce91c8d",
   "metadata": {},
   "outputs": [],
   "source": [
    "# Show the first calibrated output file\n",
    "cal_data = fits.open(output_files[0])\n",
    "show_image(cal_data['SCI'].data, 0.15, 5)\n",
    "cal_data.close()"
   ]
  },
  {
   "cell_type": "code",
   "execution_count": null,
   "id": "4819b6cd",
   "metadata": {},
   "outputs": [],
   "source": [
    "# Show the second calibrated output file\n",
    "cal_data = fits.open(output_files[1])\n",
    "show_image(cal_data['SCI'].data, 0.15, 5)\n",
    "cal_data.close()"
   ]
  },
  {
   "cell_type": "code",
   "execution_count": null,
   "id": "bf969370",
   "metadata": {},
   "outputs": [],
   "source": [
    "# Show the third calibrated output file\n",
    "cal_data = fits.open(output_files[2])\n",
    "show_image(cal_data['SCI'].data, 0.15, 5)\n",
    "cal_data.close()"
   ]
  },
  {
   "cell_type": "markdown",
   "id": "92a2e1bf",
   "metadata": {},
   "source": [
    "## CALWEBB_IMAGE3\n",
    "\n",
    "Full notebook for CALWEBB_IMAGE3: https://stsci.app.box.com/s/ausbdbmbfi7dhu7yuo4zl56f9ex5qt4b"
   ]
  },
  {
   "cell_type": "markdown",
   "id": "622edbd3",
   "metadata": {},
   "source": [
    "## Download Data"
   ]
  },
  {
   "cell_type": "code",
   "execution_count": null,
   "id": "b717bc86",
   "metadata": {},
   "outputs": [],
   "source": [
    "nircam_info = [('https://stsci.box.com/shared/static/7d00b9isvss7njhcwmd8uiq8c7s4d845.json',\n",
    "                'level3_lw_asn.json'),\n",
    "               ('https://stsci.box.com/shared/static/ja0gkd8c0x8p8konhr84wkuhwnpkqf4s.asdf',\n",
    "                'jwst_nircam_pars-tweakregstep_0006.asdf'),\n",
    "               ('https://stsci.box.com/shared/static/yahdw55fotwrh7i6hhcxksj97qkf7j4r.asdf',\n",
    "                'nircam_pars-sourcecatalogstep_f444w_clear.asdf')\n",
    "              ]\n",
    "nircam_files = download_files(nircam_info, output_dir, force=False)"
   ]
  },
  {
   "cell_type": "code",
   "execution_count": null,
   "id": "a72f4d23",
   "metadata": {},
   "outputs": [],
   "source": [
    "# the image2 pipeline is run on a set of images defined in an association file\n",
    "asn_file = os.path.join(output_dir, 'level3_lw_asn.json')"
   ]
  },
  {
   "cell_type": "code",
   "execution_count": null,
   "id": "4c61a535",
   "metadata": {},
   "outputs": [],
   "source": [
    "# Create an instance of the pipeline class\n",
    "image3 = calwebb_image3.Image3Pipeline()\n",
    "\n",
    "# Set some parameters that pertain to the\n",
    "# entire pipeline\n",
    "image3.output_dir = output_dir\n",
    "image3.save_results = True\n",
    "\n",
    "# Set some parameters that pertain to some of\n",
    "# the individual steps\n",
    "image3.tweakreg.snr_threshold = 10.0  # 5.0 is the default\n",
    "image3.tweakreg.kernel_fwhm = 2.302  # 2.5 is the default\n",
    "image3.tweakreg.brightest = 20  # 100 is the default\n",
    "image3.source_catalog.kernel_fwhm = 2.302  # pixels\n",
    "image3.source_catalog.snr_threshold = 10.\n",
    "\n",
    "# Call the run() method\n",
    "image3.run(asn_file)"
   ]
  },
  {
   "cell_type": "markdown",
   "id": "2ea3475a",
   "metadata": {},
   "source": [
    "### Examine the outputs"
   ]
  },
  {
   "cell_type": "code",
   "execution_count": null,
   "id": "2f357780",
   "metadata": {},
   "outputs": [],
   "source": [
    "# Open the association file and load into a json object\n",
    "with open(asn_file) as f_obj:\n",
    "  asn_data = json.load(f_obj)\n",
    "input_files = [item['expname'] for item in asn_data['products'][0]['members']]  \n",
    "\n",
    "mosaic_file = os.path.join(output_dir, 'l3_lw_results_i2d.fits')\n",
    "source_cat_file = os.path.join(output_dir, 'l3_lw_results_cat.ecsv')\n",
    "segmentation_map_file = os.path.join(output_dir, 'l3_lw_results_segm.fits')\n",
    "cr_flagged_files = [item.replace('cal.fits', 'crf.fits') for item in input_files]"
   ]
  },
  {
   "cell_type": "markdown",
   "id": "3b40879c",
   "metadata": {},
   "source": [
    "Read in the final mosaic image and display\n",
    "\n",
    "Note that there are low level residual horizontal instrument artifacts present in the final mosaic."
   ]
  },
  {
   "cell_type": "code",
   "execution_count": null,
   "id": "8315a72d",
   "metadata": {},
   "outputs": [],
   "source": [
    "mosaic = datamodels.open(mosaic_file)\n",
    "show_image(mosaic.data, vmin=-0, vmax=5)"
   ]
  },
  {
   "cell_type": "markdown",
   "id": "5c11739b",
   "metadata": {},
   "source": [
    "Let's look at the segmentation map that was created by the `source_catalog` step. This shows which pixels are associated with the identified sources."
   ]
  },
  {
   "cell_type": "code",
   "execution_count": null,
   "id": "33b1ec47",
   "metadata": {},
   "outputs": [],
   "source": [
    "seg_map = fits.getdata(segmentation_map_file)\n",
    "show_image(seg_map, vmin=0, vmax=5, scale='linear')"
   ]
  },
  {
   "cell_type": "markdown",
   "id": "c4a42e9f",
   "metadata": {},
   "source": [
    "And now examine the actual source catalog. For each source, the catalog lists the location, along with flux and AB/Vega magnitude values in three different apertures, as well as calculated values for an infinite aperture. Within the documentation, you can see the [full list of column definitions](https://jwst-pipeline.readthedocs.io/en/stable/jwst/source_catalog/main.html#source-catalog-table)."
   ]
  },
  {
   "cell_type": "code",
   "execution_count": null,
   "id": "8a5d7bc2",
   "metadata": {},
   "outputs": [],
   "source": [
    "source_cat = ascii.read(source_cat_file)\n",
    "source_cat"
   ]
  },
  {
   "cell_type": "markdown",
   "id": "50be880c",
   "metadata": {},
   "source": [
    "Finally, let's overlay the source catalog on top of the mosaic image. In order to cut down on the number of spurious detections, we only show sources above a minimum flux limit. Another way to cut down on the number of spurious detections would be to change some of the `source_catalog` parameter values when calling the pipeline above."
   ]
  },
  {
   "cell_type": "code",
   "execution_count": null,
   "id": "5ff9884c",
   "metadata": {},
   "outputs": [],
   "source": [
    "overlay_catalog(mosaic.data, source_cat, flux_limit=5e-7, vmin=0, vmax=10,\n",
    "                title='Final mosaic with source catalog')"
   ]
  },
  {
   "cell_type": "code",
   "execution_count": null,
   "id": "9a1cf2df",
   "metadata": {},
   "outputs": [],
   "source": []
  }
 ],
 "metadata": {
  "kernelspec": {
   "display_name": "Python 3",
   "language": "python",
   "name": "python3"
  },
  "language_info": {
   "codemirror_mode": {
    "name": "ipython",
    "version": 3
   },
   "file_extension": ".py",
   "mimetype": "text/x-python",
   "name": "python",
   "nbconvert_exporter": "python",
   "pygments_lexer": "ipython3",
   "version": "3.8.8"
  }
 },
 "nbformat": 4,
 "nbformat_minor": 5
}
