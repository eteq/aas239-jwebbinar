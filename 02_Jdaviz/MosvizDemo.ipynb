{
 "cells": [
  {
   "cell_type": "markdown",
   "metadata": {},
   "source": [
    "# Mosviz Demonstration Notebook\n",
    "\n",
    "This notebook demonstrates the Mosviz API in the Notebook setting. UI equivalents for these actions, as well as additional documentation about Mosviz, can be found here: https://jdaviz.readthedocs.io/en/latest/mosviz/"
   ]
  },
  {
   "cell_type": "markdown",
   "metadata": {},
   "source": [
    "Note: We silence most warnings for now. For debugging, you can comment out the next cell and then restart the kernel to re-enable warnings."
   ]
  },
  {
   "cell_type": "code",
   "execution_count": null,
   "metadata": {},
   "outputs": [],
   "source": [
    "import warnings\n",
    "warnings.simplefilter('ignore')"
   ]
  },
  {
   "cell_type": "markdown",
   "metadata": {},
   "source": [
    "We'll download and load an example data set.  For more examples of for loading MOS data, see the [Mosviz Example Notebook](https://github.com/spacetelescope/jdaviz/blob/main/notebooks/MosvizExample.ipynb) or the [Mosviz NIRISS Example Notebook](https://github.com/spacetelescope/jdaviz/blob/main/notebooks/MosvizNIRISSExample.ipynb)."
   ]
  },
  {
   "cell_type": "code",
   "execution_count": null,
   "metadata": {
    "scrolled": false
   },
   "outputs": [],
   "source": [
    "from jdaviz import Mosviz\n",
    "from zipfile import ZipFile\n",
    "from astropy.utils.data import download_file\n",
    "import pathlib\n",
    "import tempfile\n",
    "\n",
    "data_dir = tempfile.gettempdir()\n",
    "\n",
    "example_data = 'https://stsci.box.com/shared/static/9lkf5zha6zkf8ujnairy6krobbh038wt.zip'\n",
    "fn = download_file(example_data, cache=True)\n",
    "with ZipFile(fn, 'r') as sample_data_zip:\n",
    "    sample_data_zip.extractall(data_dir)\n",
    "\n",
    "data_dir = (pathlib.Path(data_dir) / 'NIRISS_for_parser_p0171')\n",
    "\n",
    "mosviz = Mosviz()\n",
    "mosviz.load_data(directory=data_dir, instrument=\"niriss\")\n",
    "mosviz.app"
   ]
  },
  {
   "cell_type": "markdown",
   "metadata": {},
   "source": [
    "# Thank you!\n",
    "Thank you for attending Space Telescope Science Institute's Data Analysis Tools Workshop at the 239th Meeting of the American Astronomical Society! We hope you found this session informative and our tools useful for your analysis.\n",
    "\n",
    "* Documentation: https://jdaviz.readthedocs.io/\n",
    "* GitHub: https://github.com/spacetelescope/jdaviz\n",
    "* Report an issue directly to us: https://github.com/spacetelescope/jdaviz/issues/new/choose\n",
    "* JWST Help Desk: https://stsci.service-now.com/jwst"
   ]
  },
  {
   "cell_type": "code",
   "execution_count": null,
   "metadata": {},
   "outputs": [],
   "source": []
  }
 ],
 "metadata": {
  "kernelspec": {
   "display_name": "Python 3 (ipykernel)",
   "language": "python",
   "name": "python3"
  },
  "language_info": {
   "codemirror_mode": {
    "name": "ipython",
    "version": 3
   },
   "file_extension": ".py",
   "mimetype": "text/x-python",
   "name": "python",
   "nbconvert_exporter": "python",
   "pygments_lexer": "ipython3",
   "version": "3.9.6"
  }
 },
 "nbformat": 4,
 "nbformat_minor": 4
}
