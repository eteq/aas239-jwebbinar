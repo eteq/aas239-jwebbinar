{
 "cells": [
  {
   "cell_type": "markdown",
   "id": "17b4af6f",
   "metadata": {},
   "source": [
    "# Imviz Demonstration Notebook\n",
    "\n",
    "\n",
    "This notebook demonstrates the Imviz API in the Notebook setting. UI equivalents for the API calls demonstrated, as well as additional documentation about Imviz, can be found here: https://jdaviz.readthedocs.io/en/latest/imviz/"
   ]
  },
  {
   "cell_type": "markdown",
   "id": "3b0f5142",
   "metadata": {},
   "source": [
    "We start off by silencing warnings that can happen when loading data as well as deprecation warnings, for clarity:"
   ]
  },
  {
   "cell_type": "code",
   "execution_count": null,
   "id": "a4b3aee3",
   "metadata": {
    "scrolled": true
   },
   "outputs": [],
   "source": [
    "import warnings\n",
    "warnings.simplefilter('ignore')"
   ]
  },
  {
   "cell_type": "markdown",
   "id": "7c73155f-c062-461a-8ca7-0891ce142901",
   "metadata": {},
   "source": [
    "Import modules needed for this notebook."
   ]
  },
  {
   "cell_type": "code",
   "execution_count": null,
   "id": "0915bde6-e3cc-4038-aca1-c2ae852f7a69",
   "metadata": {
    "scrolled": true
   },
   "outputs": [],
   "source": [
    "import matplotlib.pyplot as plt\n",
    "import numpy as np\n",
    "from astropy import units as u\n",
    "from astropy.coordinates import SkyCoord, Angle\n",
    "from astropy.table import Table\n",
    "from astropy.utils.data import download_file\n",
    "from photutils import CircularAperture, SkyCircularAperture\n",
    "from regions import PixCoord, CirclePixelRegion, CircleSkyRegion\n",
    "\n",
    "from jdaviz import Imviz"
   ]
  },
  {
   "cell_type": "markdown",
   "id": "d1120d18-65a4-41ec-b831-bc3637718b90",
   "metadata": {},
   "source": [
    "We create an Imviz instance and grab a reference to the default viewer instance as well."
   ]
  },
  {
   "cell_type": "code",
   "execution_count": null,
   "id": "0e81c635-97eb-459c-bfc0-3136839c2844",
   "metadata": {
    "scrolled": true
   },
   "outputs": [],
   "source": [
    "imviz = Imviz()\n",
    "viewer = imviz.default_viewer"
   ]
  },
  {
   "cell_type": "markdown",
   "id": "f38a4e4d-d4ce-4bd6-9f6f-43eed3813f1b",
   "metadata": {},
   "source": [
    "Here, we download two simulated JWST imager files and load them into the Imviz instance."
   ]
  },
  {
   "cell_type": "code",
   "execution_count": null,
   "id": "43b75991",
   "metadata": {},
   "outputs": [],
   "source": [
    "jwf277w = download_file('https://stsci.box.com/shared/static/iao1zxtigyrhq7k3wtu5nchrxzlhj9kv.fits', cache=True)\n",
    "jwf444w = download_file('https://stsci.box.com/shared/static/rey83o5wq6g7qd7xym6r1jq9wlsxaqnt.fits', cache=True)\n",
    "\n",
    "imviz.load_data(jwf277w, data_label='JWST_F277W')\n",
    "imviz.load_data(jwf444w, data_label='JWST_F444W')"
   ]
  },
  {
   "cell_type": "markdown",
   "id": "e28b9919-6f9e-410c-83f6-554631407d4b",
   "metadata": {},
   "source": [
    "Then, we visualize the data and start off by looking at some of the basic features:"
   ]
  },
  {
   "cell_type": "code",
   "execution_count": null,
   "id": "229d64f3-843f-4a7f-ac98-989f2a95d4c1",
   "metadata": {
    "scrolled": true
   },
   "outputs": [],
   "source": [
    "imviz.app"
   ]
  },
  {
   "cell_type": "markdown",
   "id": "eaf4b776",
   "metadata": {},
   "source": [
    "### Guided tour of some API methods"
   ]
  },
  {
   "cell_type": "markdown",
   "id": "1abb759e",
   "metadata": {},
   "source": [
    "Panning and zooming is possible by showing the viewer toolbar and clicking on the '+'-shaped icon, then dragging around in the image and using scrolling to zoom in and out. To change the stretch and colormap, show the **Layer** options accessible through the last icon in the viewer toolbar.\n",
    "\n",
    "We can also change these programmatically, for example the stretch:"
   ]
  },
  {
   "cell_type": "code",
   "execution_count": null,
   "id": "f117ebce-c7a0-44fa-82a4-0c0876663093",
   "metadata": {
    "scrolled": true
   },
   "outputs": [],
   "source": [
    "viewer.stretch_options"
   ]
  },
  {
   "cell_type": "code",
   "execution_count": null,
   "id": "d76b335d",
   "metadata": {
    "scrolled": true
   },
   "outputs": [],
   "source": [
    "viewer.stretch = 'sqrt'"
   ]
  },
  {
   "cell_type": "markdown",
   "id": "11888383",
   "metadata": {},
   "source": [
    "the colormap:"
   ]
  },
  {
   "cell_type": "code",
   "execution_count": null,
   "id": "28c82ed4-eb6c-4bd1-856f-3bc3a856dca3",
   "metadata": {
    "scrolled": true
   },
   "outputs": [],
   "source": [
    "viewer.colormap_options"
   ]
  },
  {
   "cell_type": "code",
   "execution_count": null,
   "id": "fec4de61",
   "metadata": {
    "scrolled": true
   },
   "outputs": [],
   "source": [
    "viewer.set_colormap('viridis')"
   ]
  },
  {
   "cell_type": "markdown",
   "id": "def18589",
   "metadata": {},
   "source": [
    "the limits via the autocut using percentile option:"
   ]
  },
  {
   "cell_type": "code",
   "execution_count": null,
   "id": "40da11da-f562-4ed3-aa5a-b556047c0c5c",
   "metadata": {
    "scrolled": true
   },
   "outputs": [],
   "source": [
    "viewer.autocut_options"
   ]
  },
  {
   "cell_type": "code",
   "execution_count": null,
   "id": "7c41f17a",
   "metadata": {
    "scrolled": true
   },
   "outputs": [],
   "source": [
    "viewer.cuts = '95%'\n",
    "viewer.cuts"
   ]
  },
  {
   "cell_type": "markdown",
   "id": "c59d150e",
   "metadata": {},
   "source": [
    "or the limits directly:"
   ]
  },
  {
   "cell_type": "code",
   "execution_count": null,
   "id": "2a3ac022",
   "metadata": {
    "scrolled": true
   },
   "outputs": [],
   "source": [
    "viewer.cuts = (0, 1000)"
   ]
  },
  {
   "cell_type": "markdown",
   "id": "2f25ccd8",
   "metadata": {},
   "source": [
    "Note also that in the above example there are mouse-over coordinates visible by default."
   ]
  },
  {
   "cell_type": "markdown",
   "id": "5a7848d0",
   "metadata": {},
   "source": [
    "It possible to make selections/regions in images and export these to astropy regions. Click on the viewer toolbar then click on the circular selection tool, and drag and click to select an interesting region on the sky. We can then export this region with:"
   ]
  },
  {
   "cell_type": "code",
   "execution_count": null,
   "id": "1e369edd",
   "metadata": {
    "scrolled": true
   },
   "outputs": [],
   "source": [
    "regions = imviz.get_interactive_regions()"
   ]
  },
  {
   "cell_type": "code",
   "execution_count": null,
   "id": "a0385234",
   "metadata": {
    "scrolled": true
   },
   "outputs": [],
   "source": [
    "regions"
   ]
  },
  {
   "cell_type": "markdown",
   "id": "11afa633",
   "metadata": {},
   "source": [
    "Since the region is an astropy region, we can e.g. convert it to a mask:"
   ]
  },
  {
   "cell_type": "code",
   "execution_count": null,
   "id": "71e2191b",
   "metadata": {
    "scrolled": true
   },
   "outputs": [],
   "source": [
    "mask = regions['Subset 1'].to_mask(mode='subpixels')\n",
    "mask"
   ]
  },
  {
   "cell_type": "markdown",
   "id": "99766ca8",
   "metadata": {},
   "source": [
    "You can also programmatically control the viewer."
   ]
  },
  {
   "cell_type": "code",
   "execution_count": null,
   "id": "5e908421",
   "metadata": {
    "scrolled": true
   },
   "outputs": [],
   "source": [
    "# Center the image on given pixel position.\n",
    "viewer.center_on((1173, 1013))  # X, Y (0-indexed)"
   ]
  },
  {
   "cell_type": "code",
   "execution_count": null,
   "id": "e68b6306",
   "metadata": {
    "scrolled": true
   },
   "outputs": [],
   "source": [
    "# Move the image with the given pixel offsets.\n",
    "viewer.offset_by(500, -100)  # dX, dY"
   ]
  },
  {
   "cell_type": "code",
   "execution_count": null,
   "id": "e0f3845a",
   "metadata": {
    "scrolled": true
   },
   "outputs": [],
   "source": [
    "# Center the image on given sky coordinates.\n",
    "sky = SkyCoord('05h21m51.6s -69d29m57.3s')\n",
    "viewer.center_on(sky)"
   ]
  },
  {
   "cell_type": "code",
   "execution_count": null,
   "id": "20f51452-1858-47f9-a421-2997f54f8433",
   "metadata": {
    "scrolled": true
   },
   "outputs": [],
   "source": [
    "# Move the image with the given sky offsets.\n",
    "viewer.offset_by(0.5 * u.arcsec, -1.5 * u.arcsec)"
   ]
  },
  {
   "cell_type": "markdown",
   "id": "e2744c0c-8721-480a-811e-87904373e66f",
   "metadata": {},
   "source": [
    "You can programmatically zoom in and out.\n",
    "\n",
    "Zoom level:\n",
    "\n",
    "* 1 means real-pixel-size.\n",
    "* 2 means zoomed in by a factor of 2.\n",
    "* 0.5 means zoomed out by a factor of 2.\n",
    "* 'fit' means zoomed to fit the whole image width into display."
   ]
  },
  {
   "cell_type": "code",
   "execution_count": null,
   "id": "1bad9bdf-b959-4b74-9a77-07212095c2ce",
   "metadata": {
    "scrolled": true
   },
   "outputs": [],
   "source": [
    "# Get the current zoom level.\n",
    "viewer.zoom_level"
   ]
  },
  {
   "cell_type": "code",
   "execution_count": null,
   "id": "7a834bcf-7d5a-492b-bc54-740e1500a2f4",
   "metadata": {
    "scrolled": true
   },
   "outputs": [],
   "source": [
    "# Set the zoom level directly.\n",
    "viewer.zoom_level = 1"
   ]
  },
  {
   "cell_type": "code",
   "execution_count": null,
   "id": "32288b81-1817-4549-b2e4-5e7f55b0ee3d",
   "metadata": {
    "scrolled": true
   },
   "outputs": [],
   "source": [
    "# Set the relative zoom based on current zoom level.\n",
    "viewer.zoom(2)"
   ]
  },
  {
   "cell_type": "markdown",
   "id": "70698430-2683-4bb2-b273-e2ae436e641d",
   "metadata": {},
   "source": [
    "You can save the active display as PNG file."
   ]
  },
  {
   "cell_type": "code",
   "execution_count": null,
   "id": "d6af9b27-e5b6-45b6-ac85-5d008faa88b1",
   "metadata": {
    "scrolled": true
   },
   "outputs": [],
   "source": [
    "viewer.save('myimage.png')"
   ]
  },
  {
   "cell_type": "markdown",
   "id": "68a01225",
   "metadata": {},
   "source": [
    "# Exercises"
   ]
  },
  {
   "cell_type": "markdown",
   "id": "d9299e93",
   "metadata": {},
   "source": [
    "## Objective 1: Compare two images visually\n",
    "\n",
    "1. Create a second viewer, either with the button in the UI or by using the `imviz.create_image_viewer` API method.\n",
    "2. Select the second dataset in the `DATA` menu of the new viewer, and adjust the display parameters as you like to get a well scaled image.\n",
    "3. Open the `Imviz Links Control` plugin and link the datasets by WCS instead of pixels.\n",
    "4. In either of the two viewers, select the linked pan/zoom tool (note the descriptions in the tooltips) in the viewer toolbar (hammer and screwdriver icon) and zoom to an object of your choice. See that the other viewer zooms to the same location."
   ]
  },
  {
   "cell_type": "markdown",
   "id": "8ba23c7e",
   "metadata": {},
   "source": [
    "## Objective 2: Extract photometry\n",
    "\n",
    "1. Select one of the subset creation tools from the viewer toolbar and use it to define an ROI around an object in the one of the images.\n",
    "2. Open the \"Imviz Simple Aperture Photometry\" plugin and select a dataset and the subset you just defined. Click \"Calculate\" and examine the output.\n",
    "3. Try specifying a value in the \"Background\" field and see if/how the values change when you click \"Calculate\" again."
   ]
  },
  {
   "cell_type": "markdown",
   "id": "d0fb35fd",
   "metadata": {
    "scrolled": true
   },
   "source": [
    "# Thank you!\n",
    "Thank you for attending Space Telescope Science Institute's Data Analysis Tools Workshop at the 239th Meeting of the American Astronomical Society! We hope you found this session informative and our tools useful for your analysis.\n",
    "\n",
    "* Documentation: https://jdaviz.readthedocs.io/\n",
    "* GitHub: https://github.com/spacetelescope/jdaviz\n",
    "* Report an issue directly to us: https://github.com/spacetelescope/jdaviz/issues/new/choose\n",
    "* JWST Help Desk: https://stsci.service-now.com/jwst"
   ]
  },
  {
   "cell_type": "code",
   "execution_count": null,
   "id": "54a58618",
   "metadata": {},
   "outputs": [],
   "source": []
  }
 ],
 "metadata": {
  "kernelspec": {
   "display_name": "Python 3 (ipykernel)",
   "language": "python",
   "name": "python3"
  },
  "language_info": {
   "codemirror_mode": {
    "name": "ipython",
    "version": 3
   },
   "file_extension": ".py",
   "mimetype": "text/x-python",
   "name": "python",
   "nbconvert_exporter": "python",
   "pygments_lexer": "ipython3",
   "version": "3.8.10"
  }
 },
 "nbformat": 4,
 "nbformat_minor": 5
}
