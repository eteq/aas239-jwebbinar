{
 "cells": [
  {
   "cell_type": "markdown",
   "id": "c36fe308-b6c5-4764-8b02-92d9cadc32d7",
   "metadata": {},
   "source": [
    "<img src=\"images/jwebbinar.jpg\" width=\"300px\">\n",
    "\n",
    "# Welcome to Intro to JWST Data Analysis Workshop \n",
    "\n",
    "-------\n",
    "### If you haven't already, do the following:\n",
    "- Visit https://github.com/spacetelescope/aas239-jwebbinar\n",
    "- Click on 00_Installation and follow the instructions.\n",
    "\n",
    "### For Everyone:\n",
    "- Do a `git pull` on your aas239_jwebbinar repo to get latest updates\n",
    "    - You may need to first do a `git stash` if you ran and saved notebooks\n",
    "    - There is no need to rerun the setup script.\n",
    "- Log into the Slack Workspace?  It's another way to ask questions.\n",
    "\n",
    "----"
   ]
  },
  {
   "cell_type": "markdown",
   "id": "80967291-0003-4e25-bdae-c5ed64bc0068",
   "metadata": {},
   "source": [
    "## Presenters and Helpers:\n",
    "- Susan E. Mullally, Organization and Resources\n",
    "- Karl Gordon, JWST Pipeline\n",
    "- Duy Nguyen, Jdaviz\n",
    "- Richard O'Steen, Jdaviz\n",
    "- Kyle Conroy, Jdaviz\n",
    "- Ori Fox, Science Use Cases\n",
    "- Erik Tollerud, Astropy\n",
    "----------------"
   ]
  },
  {
   "cell_type": "markdown",
   "id": "c87ce27d-ca26-4d12-8f4e-506ec4d3cf7a",
   "metadata": {},
   "source": [
    "## Note: All Data Analysis Resources are Linked from [jdat.stsci.edu](https://jdat.stsci.edu) ##\n"
   ]
  },
  {
   "cell_type": "markdown",
   "id": "a4bcaaa8-c6f6-4203-87bb-8d97e77c8a66",
   "metadata": {},
   "source": [
    "# Data Analysis Resources"
   ]
  },
  {
   "cell_type": "markdown",
   "id": "f51558b6-aace-4c69-a219-d6f3bf851812",
   "metadata": {},
   "source": [
    "## [JWST User Documentation: JDocs](https://jwst-docs.stsci.edu/)\n",
    "jwst-docs.stsci.edu\n",
    "\n",
    "<img src=\"images/jdocs.png\" width=\"90%\">\n",
    "\n",
    "--------"
   ]
  },
  {
   "cell_type": "markdown",
   "id": "3f0aabe9-76a4-4041-9a50-db757cdae13f",
   "metadata": {},
   "source": [
    "### [Understanding JWST Data Files](https://jwst-docs.stsci.edu/understanding-jwst-data-files)\n",
    "jwst-docs.stsci.edu/understanding-jwst-data-files\n",
    "![jwst-docs.stsci.edu/understanding-jwst-data-files](images/data_files.png)\n",
    "\n",
    "----"
   ]
  },
  {
   "cell_type": "markdown",
   "id": "4a86ff19-6491-4cec-bbb7-03513e02655e",
   "metadata": {},
   "source": [
    "### [Obtaining JWST Data from the MAST Portal](https://jwst-docs.stsci.edu/obtaining-jwst-data)\n",
    "\n",
    "mast.stsci.edu\n",
    "- Use Advanced Search to search for a specific program ID\n",
    "- Do a cone search around a target of interest\n",
    "\n",
    "<img src = \"images/mast.png\" width=\"90%\">\n",
    "\n",
    "----"
   ]
  },
  {
   "cell_type": "markdown",
   "id": "a7c0652f-1c4d-4f47-8891-6856d2c54959",
   "metadata": {},
   "source": [
    "____"
   ]
  },
  {
   "cell_type": "markdown",
   "id": "7fdf1aba-75c2-4b4d-a8d0-098c894d97e0",
   "metadata": {},
   "source": [
    "## Python Based JWST Data Analysis Resources\n",
    "\n",
    "- **[JWST JWebbinars](https://www.stsci.edu/jwst/science-execution/jwebbinars)** -- Training\n",
    "- **[JWST Calibration Pipeline](https://jwst-docs.stsci.edu/jwst-science-calibration-pipeline-overview)** -- Yes! You can run it too.\n",
    "- **[JWST Simulated Data](https://www.stsci.edu/jwst/science-planning/proposal-planning-toolbox/simulated-data)** -- Data Available for most observing modes.\n",
    "- **[JDaviz](https://jdaviz.readthedocs.io)** -- Visualization tools  **TODAY!**\n",
    "- **[Data Analysis Notebooks](https://spacetelescope.github.io/jdat_notebooks/)** --Step by step analysis for science use cases. **TODAY!**\n",
    "----\n"
   ]
  },
  {
   "cell_type": "markdown",
   "id": "d830cd65-ffda-412e-b2b4-f2d01c1c6388",
   "metadata": {},
   "source": [
    "### [JWST JWebbinars](https://www.stsci.edu/jwst/science-execution/jwebbinars)\n",
    "jwst.stsci.edu/science-execution/jwebbinars\n",
    "- In person classes that go through specific data analysis tasks. \n",
    "- Courses covering analysis of most observing modes.\n",
    "- Courses covering JWST Pipeline and data analysis visualizations.\n",
    "- ~4 JWebbinars will be presented in February--April by Early Release Science Teams\n",
    "- Notebooks and Presentations are Available.\n",
    "- Videos are availabe on YouTube.  Subscribe to [JWSTObserver](https://www.youtube.com/c/JWSTObserver/).\n",
    "\n",
    "<img src=\"images/jwebbinar_video.png\" width=\"70%\">\n",
    "\n",
    "---"
   ]
  },
  {
   "cell_type": "markdown",
   "id": "4ee17b45",
   "metadata": {},
   "source": [
    "## [JWST Calibration Pipeline](https://jwst-docs.stsci.edu/jwst-science-calibration-pipeline-overview) ##\n",
    "\n",
    "This pipeline will be run on your data and the results stored at MAST for you to download. The JWST Pipeline is written in python and very modular with different paths for different types of data. \n",
    "\n",
    "You can change parameters and run it on your own data.  See 01_Pipeline of this original workshop to try running it. Or checkout the JWebbinar videos!\n",
    "\n",
    "For example, code to run CALWEBB_DETECTOR1\n",
    "<img src=\"images/calwebb_detector1.png\" width=\"90%\">"
   ]
  },
  {
   "cell_type": "markdown",
   "id": "a10cc682",
   "metadata": {},
   "source": [
    "## [JWST Simulated Data](https://www.stsci.edu/jwst/science-planning/proposal-planning-toolbox/simulated-data) ##\n",
    "\n",
    "STScI hosts high fidelity simulated data that has been run through the JWST pipeline for almost every JWST observing mode. These are perfect for getting to know the data formats, and setting up your analysis pipeline. Most come with a Jupyter notebook to help you use them.\n",
    "\n",
    "If you need to create your own simulated data there are public simulators (MIRISim and MIRAGE). In fact there is a JWebbinar on how to run those simulators.\n",
    "\n",
    "<img src=\"images/simulated_miri.png\" width=\"90%\">"
   ]
  },
  {
   "cell_type": "markdown",
   "id": "21ff48cd",
   "metadata": {},
   "source": [
    "------"
   ]
  },
  {
   "cell_type": "markdown",
   "id": "f739c08a-d5e5-4d07-a8e2-c16e114394d8",
   "metadata": {},
   "source": [
    "## I need HELP!! ##\n",
    "\n",
    "The [Help Desk](https://stsci.service-now.com/jwst) is there to help you.  \n",
    "Just put in a help desk ticket. You will need a MyST Account.\n",
    "\n",
    "<img src=\"images/help_desk.png\" width=\"80%\">\n",
    "\n",
    "----"
   ]
  },
  {
   "cell_type": "markdown",
   "id": "c17489c9-ba15-406f-bdfe-866d0ca863ca",
   "metadata": {},
   "source": [
    "# LOGISTICS #\n",
    "\n",
    "- Intro to Jupyter Notebooks\n",
    "- Today's Schedule\n",
    "- Ways to ask questions. \n"
   ]
  },
  {
   "cell_type": "markdown",
   "id": "d08dbd2c-9b88-41c5-a303-f04b62a4db7d",
   "metadata": {},
   "source": [
    "## Intro to Jupyter Notebooks\n",
    "From the terminal directory where you downloaded the github repo type `jupyter notebook`"
   ]
  },
  {
   "cell_type": "code",
   "execution_count": null,
   "id": "0da4294c-7cf3-4df9-8c77-c796c9468d8c",
   "metadata": {},
   "outputs": [],
   "source": [
    "#This Cell is Python Code\n",
    "#Execute the Cell by Hitting <shift>-Enter\n",
    "\n",
    "print(\"Hello JWebbinar Workshop at AAS239!\")\n",
    "\n",
    "for n in range(1,5):\n",
    "    print(n)\n"
   ]
  },
  {
   "cell_type": "code",
   "execution_count": null,
   "id": "906e741d",
   "metadata": {},
   "outputs": [],
   "source": [
    "#Here is some code to create a simple plot.\n",
    "#If you are new to this you might try changing the function it plots and run the cell again.\n",
    "#When you do, notice the number at the left in the square brackets. \n",
    "#That keeps track of the order you run the cells. --  Run them in order.\n",
    "import numpy as np\n",
    "import matplotlib.pyplot as plt\n",
    "\n",
    "x = np.arange(1,10)\n",
    "y = 100-x**2\n",
    "plt.plot(x,y,'ro-')"
   ]
  },
  {
   "cell_type": "markdown",
   "id": "30648dbc-ce0a-4b1a-a8cb-459feb390593",
   "metadata": {},
   "source": [
    "----\n",
    "\n",
    "## This cell is a markdown cell. ##\n",
    "You make it look nicer by pressing `<shift>-Enter`\n",
    "\n",
    "Switch between the type of cell either by\n",
    "1. Selecting from the pull down menu above.\n",
    "2. `esc` then `m` for markdown or `y` for a code cell\n",
    "\n",
    "Once in `esc` mode you can\n",
    "1. `A` Insert Cell Above\n",
    "2. `B` Insert Cell Below\n",
    "3. `C` Copy Cell\n",
    "4. `V` Paste Cell Below\n",
    "5. `Shift-Up` Select many cells going up.\n",
    "6. `m` switch cell to markdown\n",
    "7. `y` switch cell to code\n",
    "\n",
    "----"
   ]
  },
  {
   "cell_type": "markdown",
   "id": "7495798a-660f-4d5c-830a-05b6ec447944",
   "metadata": {},
   "source": [
    "## Today's Schedule\n",
    "The schedule is found in the top level of the github repo.\n",
    "See https://github.com/spacetelescope/aas239-jwebbinar\n"
   ]
  },
  {
   "cell_type": "markdown",
   "id": "6008399b",
   "metadata": {},
   "source": [
    "# Acknowledgements #\n",
    "We thank the astropy teamm for both the open source python code on which the JWST data analysis tools are built. We also thank Kelle Cruz and the astropy team for the inspiration behind this layout for a conference workshop repository. We thank the scientists who wrote and developed the science use case notebooks."
   ]
  },
  {
   "cell_type": "code",
   "execution_count": null,
   "id": "ddd6eb49",
   "metadata": {},
   "outputs": [],
   "source": []
  }
 ],
 "metadata": {
  "kernelspec": {
   "display_name": "Python 3",
   "language": "python",
   "name": "python3"
  },
  "language_info": {
   "codemirror_mode": {
    "name": "ipython",
    "version": 3
   },
   "file_extension": ".py",
   "mimetype": "text/x-python",
   "name": "python",
   "nbconvert_exporter": "python",
   "pygments_lexer": "ipython3",
   "version": "3.9.5"
  }
 },
 "nbformat": 4,
 "nbformat_minor": 5
}
